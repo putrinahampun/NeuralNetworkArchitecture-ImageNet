{
  "nbformat": 4,
  "nbformat_minor": 0,
  "metadata": {
    "colab": {
      "provenance": [],
      "authorship_tag": "ABX9TyPfmjLDNAEksNcHC9PQTkd8",
      "include_colab_link": true
    },
    "kernelspec": {
      "name": "python3",
      "display_name": "Python 3"
    },
    "language_info": {
      "name": "python"
    }
  },
  "cells": [
    {
      "cell_type": "markdown",
      "metadata": {
        "id": "view-in-github",
        "colab_type": "text"
      },
      "source": [
        "<a href=\"https://colab.research.google.com/github/putrinahampun/NeuralNetworkArchitecture-ImageNet/blob/main/EfficientNet-Anemia-TrialandError/EfficientNet_Anemia01.ipynb\" target=\"_parent\"><img src=\"https://colab.research.google.com/assets/colab-badge.svg\" alt=\"Open In Colab\"/></a>"
      ]
    },
    {
      "cell_type": "markdown",
      "source": [
        "# Data Pre Processing"
      ],
      "metadata": {
        "id": "LH1zmA6DaQ8p"
      }
    },
    {
      "cell_type": "code",
      "source": [
        "from google.colab import drive\n",
        "drive.mount('/content/drive')"
      ],
      "metadata": {
        "colab": {
          "base_uri": "https://localhost:8080/"
        },
        "id": "GXRLaK0SrPDD",
        "outputId": "851abb9f-49c5-43b3-bb76-4da861bc5858"
      },
      "execution_count": 40,
      "outputs": [
        {
          "output_type": "stream",
          "name": "stdout",
          "text": [
            "Drive already mounted at /content/drive; to attempt to forcibly remount, call drive.mount(\"/content/drive\", force_remount=True).\n"
          ]
        }
      ]
    },
    {
      "cell_type": "code",
      "source": [
        "file_path = '/content/drive/My Drive/dataset-anemia'"
      ],
      "metadata": {
        "id": "YJpIXDERvEri"
      },
      "execution_count": 47,
      "outputs": []
    },
    {
      "cell_type": "code",
      "source": [
        "from PIL import Image\n",
        "import os\n",
        "import numpy as np\n",
        "from sklearn.model_selection import train_test_split\n",
        "from tensorflow.keras.utils import to_categorical\n",
        "import tensorflow as tf\n",
        "import tensorflow_hub as hub\n",
        "\n",
        "# Fungsi untuk memuat gambar, mengonversi ke RGB, meresize, dan menormalisasikan\n",
        "def load_images_and_preprocess(folder_path, target_size=(224, 224)):\n",
        "    images = []\n",
        "    labels = []\n",
        "\n",
        "    for label in os.listdir(folder_path):\n",
        "        label_path = os.path.join(folder_path, label)\n",
        "        for filename in os.listdir(label_path):\n",
        "            img_path = os.path.join(label_path, filename)\n",
        "            img = Image.open(img_path)\n",
        "\n",
        "            # Convert gambar menjadi RGB\n",
        "            img_rgb = convert_to_rgb(np.array(img))\n",
        "\n",
        "            # Resize gambar\n",
        "            img_resized = resize_image(img_rgb, target_size)\n",
        "\n",
        "            # Normalisasi gambar\n",
        "            img_normalized = normalize_image(img_resized)\n",
        "\n",
        "            images.append(img_normalized)\n",
        "            labels.append(label)\n",
        "\n",
        "    return images, labels\n",
        "\n",
        "# Fungsi untuk mengubah menjadi RGB\n",
        "def convert_to_rgb(image):\n",
        "    # Mengambil hanya 3 kanal pertama (R, G, B)\n",
        "    rgb_image = image[:, :, :3]\n",
        "    return rgb_image\n",
        "\n",
        "# Fungsi untuk meresize gambar\n",
        "def resize_image(image, size):\n",
        "    img_resized = Image.fromarray(image).resize(size)\n",
        "    return np.array(img_resized)\n",
        "\n",
        "# Fungsi untuk normalisasi gambar\n",
        "def normalize_image(image):\n",
        "    normalized_image = image / 255.0\n",
        "    return normalized_image\n",
        "\n",
        "# Contoh penggunaan\n",
        "folder_path = '/content/drive/My Drive/dataset-anemia'\n",
        "target_size = (224, 224)\n",
        "images, labels = load_images_and_preprocess(folder_path, target_size)\n",
        "\n",
        "# Konversi label menjadi angka\n",
        "label_dict = {'Anemic': 0, 'Non-anemic': 1}\n",
        "numeric_labels = [label_dict[label] for label in labels]\n",
        "\n",
        "# Konversi label menjadi one-hot encoding\n",
        "categorical_labels = to_categorical(numeric_labels)\n",
        "\n",
        "# Split data menjadi data latih dan data uji\n",
        "X_train, X_test, y_train, y_test = train_test_split(images, categorical_labels, test_size=0.2, random_state=42)\n",
        "\n",
        "# Convert list gambar menjadi numpy array\n",
        "X_train_array = np.array(X_train)\n",
        "X_test_array = np.array(X_test)\n",
        "\n",
        "# Load model EfficientNet dari TensorFlow Hub\n",
        "module_url = \"https://tfhub.dev/google/efficientnet/b0/classification/1\"\n",
        "model = tf.keras.Sequential([\n",
        "    hub.KerasLayer(module_url, input_shape=(224, 224, 3))\n",
        "])\n",
        "\n",
        "# Tambahkan layer Dense untuk klasifikasi binary\n",
        "model.add(tf.keras.layers.Dense(2, activation='softmax'))\n",
        "\n",
        "# Compile model\n",
        "model.compile(optimizer='adam', loss='categorical_crossentropy', metrics=['accuracy'])\n",
        "\n",
        "# Pelatihan model\n",
        "model.fit(X_train_array, y_train, epochs=10, batch_size=32, validation_data=(X_test_array, y_test))\n"
      ],
      "metadata": {
        "colab": {
          "base_uri": "https://localhost:8080/"
        },
        "id": "At7hWOt_wdx3",
        "outputId": "eace5304-91a8-469c-de0f-2fdc64018cc9"
      },
      "execution_count": 51,
      "outputs": [
        {
          "output_type": "stream",
          "name": "stdout",
          "text": [
            "Epoch 1/10\n",
            "18/18 [==============================] - 52s 3s/step - loss: 0.7729 - accuracy: 0.5739 - val_loss: 0.6482 - val_accuracy: 0.6268\n",
            "Epoch 2/10\n",
            "18/18 [==============================] - 47s 3s/step - loss: 0.6443 - accuracy: 0.6549 - val_loss: 0.6229 - val_accuracy: 0.6690\n",
            "Epoch 3/10\n",
            "18/18 [==============================] - 47s 3s/step - loss: 0.5961 - accuracy: 0.7113 - val_loss: 0.6772 - val_accuracy: 0.6268\n",
            "Epoch 4/10\n",
            "18/18 [==============================] - 48s 3s/step - loss: 0.5657 - accuracy: 0.7201 - val_loss: 0.5949 - val_accuracy: 0.7394\n",
            "Epoch 5/10\n",
            "18/18 [==============================] - 44s 2s/step - loss: 0.5366 - accuracy: 0.7729 - val_loss: 0.5892 - val_accuracy: 0.7042\n",
            "Epoch 6/10\n",
            "18/18 [==============================] - 46s 3s/step - loss: 0.5955 - accuracy: 0.6919 - val_loss: 0.7275 - val_accuracy: 0.6056\n",
            "Epoch 7/10\n",
            "18/18 [==============================] - 49s 3s/step - loss: 0.5175 - accuracy: 0.7676 - val_loss: 0.5887 - val_accuracy: 0.7465\n",
            "Epoch 8/10\n",
            "18/18 [==============================] - 44s 3s/step - loss: 0.4940 - accuracy: 0.7887 - val_loss: 0.5952 - val_accuracy: 0.7254\n",
            "Epoch 9/10\n",
            "18/18 [==============================] - 49s 3s/step - loss: 0.5012 - accuracy: 0.7606 - val_loss: 0.7364 - val_accuracy: 0.5915\n",
            "Epoch 10/10\n",
            "18/18 [==============================] - 44s 3s/step - loss: 0.4928 - accuracy: 0.7852 - val_loss: 0.5914 - val_accuracy: 0.7535\n"
          ]
        },
        {
          "output_type": "execute_result",
          "data": {
            "text/plain": [
              "<keras.src.callbacks.History at 0x7f41574fc970>"
            ]
          },
          "metadata": {},
          "execution_count": 51
        }
      ]
    },
    {
      "cell_type": "code",
      "source": [
        "from google.colab import files\n",
        "\n",
        "uploaded = files.upload()\n",
        "\n",
        "# Pilih satu atau beberapa gambar untuk diuji\n",
        "for filename in uploaded.keys():\n",
        "    img_path = filename\n",
        "    uploaded_img = Image.open(img_path)\n"
      ],
      "metadata": {
        "colab": {
          "base_uri": "https://localhost:8080/",
          "height": 73
        },
        "id": "VVEpSmBW5bum",
        "outputId": "cd411cd6-1797-440d-ce5e-a9eba4869ac4"
      },
      "execution_count": 77,
      "outputs": [
        {
          "output_type": "display_data",
          "data": {
            "text/plain": [
              "<IPython.core.display.HTML object>"
            ],
            "text/html": [
              "\n",
              "     <input type=\"file\" id=\"files-43afaa0d-8b51-41f0-805e-655713d2bf93\" name=\"files[]\" multiple disabled\n",
              "        style=\"border:none\" />\n",
              "     <output id=\"result-43afaa0d-8b51-41f0-805e-655713d2bf93\">\n",
              "      Upload widget is only available when the cell has been executed in the\n",
              "      current browser session. Please rerun this cell to enable.\n",
              "      </output>\n",
              "      <script>// Copyright 2017 Google LLC\n",
              "//\n",
              "// Licensed under the Apache License, Version 2.0 (the \"License\");\n",
              "// you may not use this file except in compliance with the License.\n",
              "// You may obtain a copy of the License at\n",
              "//\n",
              "//      http://www.apache.org/licenses/LICENSE-2.0\n",
              "//\n",
              "// Unless required by applicable law or agreed to in writing, software\n",
              "// distributed under the License is distributed on an \"AS IS\" BASIS,\n",
              "// WITHOUT WARRANTIES OR CONDITIONS OF ANY KIND, either express or implied.\n",
              "// See the License for the specific language governing permissions and\n",
              "// limitations under the License.\n",
              "\n",
              "/**\n",
              " * @fileoverview Helpers for google.colab Python module.\n",
              " */\n",
              "(function(scope) {\n",
              "function span(text, styleAttributes = {}) {\n",
              "  const element = document.createElement('span');\n",
              "  element.textContent = text;\n",
              "  for (const key of Object.keys(styleAttributes)) {\n",
              "    element.style[key] = styleAttributes[key];\n",
              "  }\n",
              "  return element;\n",
              "}\n",
              "\n",
              "// Max number of bytes which will be uploaded at a time.\n",
              "const MAX_PAYLOAD_SIZE = 100 * 1024;\n",
              "\n",
              "function _uploadFiles(inputId, outputId) {\n",
              "  const steps = uploadFilesStep(inputId, outputId);\n",
              "  const outputElement = document.getElementById(outputId);\n",
              "  // Cache steps on the outputElement to make it available for the next call\n",
              "  // to uploadFilesContinue from Python.\n",
              "  outputElement.steps = steps;\n",
              "\n",
              "  return _uploadFilesContinue(outputId);\n",
              "}\n",
              "\n",
              "// This is roughly an async generator (not supported in the browser yet),\n",
              "// where there are multiple asynchronous steps and the Python side is going\n",
              "// to poll for completion of each step.\n",
              "// This uses a Promise to block the python side on completion of each step,\n",
              "// then passes the result of the previous step as the input to the next step.\n",
              "function _uploadFilesContinue(outputId) {\n",
              "  const outputElement = document.getElementById(outputId);\n",
              "  const steps = outputElement.steps;\n",
              "\n",
              "  const next = steps.next(outputElement.lastPromiseValue);\n",
              "  return Promise.resolve(next.value.promise).then((value) => {\n",
              "    // Cache the last promise value to make it available to the next\n",
              "    // step of the generator.\n",
              "    outputElement.lastPromiseValue = value;\n",
              "    return next.value.response;\n",
              "  });\n",
              "}\n",
              "\n",
              "/**\n",
              " * Generator function which is called between each async step of the upload\n",
              " * process.\n",
              " * @param {string} inputId Element ID of the input file picker element.\n",
              " * @param {string} outputId Element ID of the output display.\n",
              " * @return {!Iterable<!Object>} Iterable of next steps.\n",
              " */\n",
              "function* uploadFilesStep(inputId, outputId) {\n",
              "  const inputElement = document.getElementById(inputId);\n",
              "  inputElement.disabled = false;\n",
              "\n",
              "  const outputElement = document.getElementById(outputId);\n",
              "  outputElement.innerHTML = '';\n",
              "\n",
              "  const pickedPromise = new Promise((resolve) => {\n",
              "    inputElement.addEventListener('change', (e) => {\n",
              "      resolve(e.target.files);\n",
              "    });\n",
              "  });\n",
              "\n",
              "  const cancel = document.createElement('button');\n",
              "  inputElement.parentElement.appendChild(cancel);\n",
              "  cancel.textContent = 'Cancel upload';\n",
              "  const cancelPromise = new Promise((resolve) => {\n",
              "    cancel.onclick = () => {\n",
              "      resolve(null);\n",
              "    };\n",
              "  });\n",
              "\n",
              "  // Wait for the user to pick the files.\n",
              "  const files = yield {\n",
              "    promise: Promise.race([pickedPromise, cancelPromise]),\n",
              "    response: {\n",
              "      action: 'starting',\n",
              "    }\n",
              "  };\n",
              "\n",
              "  cancel.remove();\n",
              "\n",
              "  // Disable the input element since further picks are not allowed.\n",
              "  inputElement.disabled = true;\n",
              "\n",
              "  if (!files) {\n",
              "    return {\n",
              "      response: {\n",
              "        action: 'complete',\n",
              "      }\n",
              "    };\n",
              "  }\n",
              "\n",
              "  for (const file of files) {\n",
              "    const li = document.createElement('li');\n",
              "    li.append(span(file.name, {fontWeight: 'bold'}));\n",
              "    li.append(span(\n",
              "        `(${file.type || 'n/a'}) - ${file.size} bytes, ` +\n",
              "        `last modified: ${\n",
              "            file.lastModifiedDate ? file.lastModifiedDate.toLocaleDateString() :\n",
              "                                    'n/a'} - `));\n",
              "    const percent = span('0% done');\n",
              "    li.appendChild(percent);\n",
              "\n",
              "    outputElement.appendChild(li);\n",
              "\n",
              "    const fileDataPromise = new Promise((resolve) => {\n",
              "      const reader = new FileReader();\n",
              "      reader.onload = (e) => {\n",
              "        resolve(e.target.result);\n",
              "      };\n",
              "      reader.readAsArrayBuffer(file);\n",
              "    });\n",
              "    // Wait for the data to be ready.\n",
              "    let fileData = yield {\n",
              "      promise: fileDataPromise,\n",
              "      response: {\n",
              "        action: 'continue',\n",
              "      }\n",
              "    };\n",
              "\n",
              "    // Use a chunked sending to avoid message size limits. See b/62115660.\n",
              "    let position = 0;\n",
              "    do {\n",
              "      const length = Math.min(fileData.byteLength - position, MAX_PAYLOAD_SIZE);\n",
              "      const chunk = new Uint8Array(fileData, position, length);\n",
              "      position += length;\n",
              "\n",
              "      const base64 = btoa(String.fromCharCode.apply(null, chunk));\n",
              "      yield {\n",
              "        response: {\n",
              "          action: 'append',\n",
              "          file: file.name,\n",
              "          data: base64,\n",
              "        },\n",
              "      };\n",
              "\n",
              "      let percentDone = fileData.byteLength === 0 ?\n",
              "          100 :\n",
              "          Math.round((position / fileData.byteLength) * 100);\n",
              "      percent.textContent = `${percentDone}% done`;\n",
              "\n",
              "    } while (position < fileData.byteLength);\n",
              "  }\n",
              "\n",
              "  // All done.\n",
              "  yield {\n",
              "    response: {\n",
              "      action: 'complete',\n",
              "    }\n",
              "  };\n",
              "}\n",
              "\n",
              "scope.google = scope.google || {};\n",
              "scope.google.colab = scope.google.colab || {};\n",
              "scope.google.colab._files = {\n",
              "  _uploadFiles,\n",
              "  _uploadFilesContinue,\n",
              "};\n",
              "})(self);\n",
              "</script> "
            ]
          },
          "metadata": {}
        },
        {
          "output_type": "stream",
          "name": "stdout",
          "text": [
            "Saving Image_063.png to Image_063.png\n"
          ]
        }
      ]
    },
    {
      "cell_type": "code",
      "source": [
        "# Convert gambar menjadi RGB\n",
        "uploaded_imgs = convert_to_rgb(np.array(uploaded_img))\n",
        "\n",
        "# Resize gambar\n",
        "uploaded_img_resized = resize_image(uploaded_imgs, target_size)\n",
        "\n",
        "# Normalisasi gambar\n",
        "uploaded_img_normalized = normalize_image(uploaded_img_resized)\n",
        "\n",
        "# Menambah dimensi agar sesuai dengan input model\n",
        "uploaded_img_input = np.expand_dims(uploaded_img_normalized, axis=0)\n"
      ],
      "metadata": {
        "id": "gOB9_bLJ5ewk"
      },
      "execution_count": 78,
      "outputs": []
    },
    {
      "cell_type": "code",
      "source": [
        "# Melakukan prediksi\n",
        "predictions = model.predict(uploaded_img_input)\n",
        "\n",
        "# Mendapatkan kelas prediksi (0 atau 1)\n",
        "predicted_class = np.argmax(predictions)\n",
        "\n",
        "# Mendapatkan label kelas\n",
        "class_labels = {0: 'anemia', 1: 'non-anemia'}\n",
        "predicted_label = class_labels[predicted_class]\n",
        "\n",
        "print(\"Hasil Prediksi:\", predicted_label)\n"
      ],
      "metadata": {
        "colab": {
          "base_uri": "https://localhost:8080/"
        },
        "id": "Oh1hVgAZ5j_4",
        "outputId": "eeebb95d-cfe0-40e8-b9f9-888ec040b145"
      },
      "execution_count": 79,
      "outputs": [
        {
          "output_type": "stream",
          "name": "stdout",
          "text": [
            "1/1 [==============================] - 0s 79ms/step\n",
            "Hasil Prediksi: non-anemia\n"
          ]
        }
      ]
    }
  ]
}